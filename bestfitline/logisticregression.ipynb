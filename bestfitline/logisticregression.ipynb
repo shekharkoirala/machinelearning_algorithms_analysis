{
  "nbformat": 4,
  "nbformat_minor": 0,
  "metadata": {
    "colab": {
      "name": "bestfitline.ipynb",
      "version": "0.3.2",
      "provenance": [],
      "include_colab_link": true
    },
    "kernelspec": {
      "name": "python3",
      "display_name": "Python 3"
    }
  },
  "cells": [
    {
      "cell_type": "markdown",
      "metadata": {
        "id": "view-in-github",
        "colab_type": "text"
      },
      "source": [
        "<a href=\"https://colab.research.google.com/github/shekharkoirala/machinelearning_algorithms_analysis/blob/master/bestfitline/logisticregression.ipynb\" target=\"_parent\"><img src=\"https://colab.research.google.com/assets/colab-badge.svg\" alt=\"Open In Colab\"/></a>"
      ]
    },
    {
      "metadata": {
        "id": "d6Gnvkatr-WH",
        "colab_type": "text"
      },
      "cell_type": "markdown",
      "source": [
        "# **Logistic Regression analysis**"
      ]
    },
    {
      "metadata": {
        "id": "qTJpHFj91VvW",
        "colab_type": "text"
      },
      "cell_type": "markdown",
      "source": [
        "# **New Section**"
      ]
    },
    {
      "metadata": {
        "id": "DSmhHRd1sL7s",
        "colab_type": "text"
      },
      "cell_type": "markdown",
      "source": [
        "**Using sklearn**\n",
        "\n",
        "**step 1: Download the diabetes data from source**"
      ]
    },
    {
      "metadata": {
        "id": "_KtlU4IAZZOU",
        "colab_type": "code",
        "colab": {
          "base_uri": "https://localhost:8080/",
          "height": 204
        },
        "outputId": "eefd4c4a-ad15-446e-9312-4157728fe7e1"
      },
      "cell_type": "code",
      "source": [
        "# download the data\n",
        "!wget https://raw.githubusercontent.com/susanli2016/Machine-Learning-with-Python/master/diabetes.csv"
      ],
      "execution_count": 30,
      "outputs": [
        {
          "output_type": "stream",
          "text": [
            "--2019-02-20 07:33:24--  https://raw.githubusercontent.com/susanli2016/Machine-Learning-with-Python/master/diabetes.csv\n",
            "Resolving raw.githubusercontent.com (raw.githubusercontent.com)... 151.101.0.133, 151.101.64.133, 151.101.128.133, ...\n",
            "Connecting to raw.githubusercontent.com (raw.githubusercontent.com)|151.101.0.133|:443... connected.\n",
            "HTTP request sent, awaiting response... 200 OK\n",
            "Length: 23875 (23K) [text/plain]\n",
            "Saving to: ‘diabetes.csv’\n",
            "\n",
            "\rdiabetes.csv          0%[                    ]       0  --.-KB/s               \rdiabetes.csv        100%[===================>]  23.32K  --.-KB/s    in 0.01s   \n",
            "\n",
            "2019-02-20 07:33:24 (1.74 MB/s) - ‘diabetes.csv’ saved [23875/23875]\n",
            "\n"
          ],
          "name": "stdout"
        }
      ]
    },
    {
      "metadata": {
        "id": "LNlXM5c1avBM",
        "colab_type": "code",
        "colab": {
          "base_uri": "https://localhost:8080/",
          "height": 142
        },
        "outputId": "af95e5b3-020e-4176-bd5f-e8f3c178b107"
      },
      "cell_type": "code",
      "source": [
        "# import libraries\n",
        "import numpy as np\n",
        "import pandas as pd\n",
        "import warnings\n",
        "warnings.filterwarnings('ignore')\n",
        "from sklearn.linear_model import LogisticRegression\n",
        "import matplotlib.pyplot as plt\n",
        "from sklearn import datasets\n",
        "%matplotlib inline\n",
        "\n",
        "#datatype 1\n",
        "df = pd.read_csv(\"diabetes.csv\")\n",
        "df.head(3)"
      ],
      "execution_count": 31,
      "outputs": [
        {
          "output_type": "execute_result",
          "data": {
            "text/html": [
              "<div>\n",
              "<style scoped>\n",
              "    .dataframe tbody tr th:only-of-type {\n",
              "        vertical-align: middle;\n",
              "    }\n",
              "\n",
              "    .dataframe tbody tr th {\n",
              "        vertical-align: top;\n",
              "    }\n",
              "\n",
              "    .dataframe thead th {\n",
              "        text-align: right;\n",
              "    }\n",
              "</style>\n",
              "<table border=\"1\" class=\"dataframe\">\n",
              "  <thead>\n",
              "    <tr style=\"text-align: right;\">\n",
              "      <th></th>\n",
              "      <th>Pregnancies</th>\n",
              "      <th>Glucose</th>\n",
              "      <th>BloodPressure</th>\n",
              "      <th>SkinThickness</th>\n",
              "      <th>Insulin</th>\n",
              "      <th>BMI</th>\n",
              "      <th>DiabetesPedigreeFunction</th>\n",
              "      <th>Age</th>\n",
              "      <th>Outcome</th>\n",
              "    </tr>\n",
              "  </thead>\n",
              "  <tbody>\n",
              "    <tr>\n",
              "      <th>0</th>\n",
              "      <td>6</td>\n",
              "      <td>148</td>\n",
              "      <td>72</td>\n",
              "      <td>35</td>\n",
              "      <td>0</td>\n",
              "      <td>33.6</td>\n",
              "      <td>0.627</td>\n",
              "      <td>50</td>\n",
              "      <td>1</td>\n",
              "    </tr>\n",
              "    <tr>\n",
              "      <th>1</th>\n",
              "      <td>1</td>\n",
              "      <td>85</td>\n",
              "      <td>66</td>\n",
              "      <td>29</td>\n",
              "      <td>0</td>\n",
              "      <td>26.6</td>\n",
              "      <td>0.351</td>\n",
              "      <td>31</td>\n",
              "      <td>0</td>\n",
              "    </tr>\n",
              "    <tr>\n",
              "      <th>2</th>\n",
              "      <td>8</td>\n",
              "      <td>183</td>\n",
              "      <td>64</td>\n",
              "      <td>0</td>\n",
              "      <td>0</td>\n",
              "      <td>23.3</td>\n",
              "      <td>0.672</td>\n",
              "      <td>32</td>\n",
              "      <td>1</td>\n",
              "    </tr>\n",
              "  </tbody>\n",
              "</table>\n",
              "</div>"
            ],
            "text/plain": [
              "   Pregnancies  Glucose  BloodPressure  SkinThickness  Insulin   BMI  \\\n",
              "0            6      148             72             35        0  33.6   \n",
              "1            1       85             66             29        0  26.6   \n",
              "2            8      183             64              0        0  23.3   \n",
              "\n",
              "   DiabetesPedigreeFunction  Age  Outcome  \n",
              "0                     0.627   50        1  \n",
              "1                     0.351   31        0  \n",
              "2                     0.672   32        1  "
            ]
          },
          "metadata": {
            "tags": []
          },
          "execution_count": 31
        }
      ]
    },
    {
      "metadata": {
        "id": "1UebNhQDbOvv",
        "colab_type": "code",
        "colab": {}
      },
      "cell_type": "code",
      "source": [
        "from sklearn.model_selection import train_test_split\n",
        "X_train, X_test, y_train, y_test = train_test_split(df.loc[:, df.columns != 'Outcome'], df['Outcome'], stratify=df['Outcome'], random_state=66)\n"
      ],
      "execution_count": 0,
      "outputs": []
    },
    {
      "metadata": {
        "id": "CtuH7UuAbVxO",
        "colab_type": "code",
        "colab": {
          "base_uri": "https://localhost:8080/",
          "height": 51
        },
        "outputId": "eb39f17d-eb6d-4241-d604-38f38852dc90"
      },
      "cell_type": "code",
      "source": [
        "logreg = LogisticRegression().fit(X_train, y_train)\n",
        "print(\"Training set score: {:.3f}\".format(logreg.score(X_train, y_train)))\n",
        "print(\"Test set score: {:.3f}\".format(logreg.score(X_test, y_test)))"
      ],
      "execution_count": 33,
      "outputs": [
        {
          "output_type": "stream",
          "text": [
            "Training set score: 0.781\n",
            "Test set score: 0.771\n"
          ],
          "name": "stdout"
        }
      ]
    },
    {
      "metadata": {
        "id": "B-u1xOc1cfHg",
        "colab_type": "code",
        "colab": {
          "base_uri": "https://localhost:8080/",
          "height": 170
        },
        "outputId": "db730f29-c0b1-4565-d7f6-7805937b6691"
      },
      "cell_type": "code",
      "source": [
        "predict = logreg.predict(X_test)\n",
        "predict"
      ],
      "execution_count": 34,
      "outputs": [
        {
          "output_type": "execute_result",
          "data": {
            "text/plain": [
              "array([1, 0, 0, 0, 0, 1, 1, 0, 0, 0, 1, 0, 1, 0, 1, 0, 0, 1, 1, 1, 0, 0,\n",
              "       0, 0, 0, 0, 0, 0, 0, 0, 0, 0, 0, 0, 0, 0, 0, 1, 1, 0, 1, 0, 0, 0,\n",
              "       1, 0, 0, 1, 0, 1, 1, 1, 0, 0, 1, 0, 1, 0, 0, 0, 0, 0, 0, 0, 1, 0,\n",
              "       0, 0, 0, 0, 0, 0, 0, 0, 0, 0, 0, 0, 0, 0, 0, 0, 0, 0, 0, 0, 1, 1,\n",
              "       0, 0, 1, 1, 1, 0, 1, 0, 0, 0, 0, 0, 1, 0, 0, 0, 0, 0, 0, 1, 0, 0,\n",
              "       1, 0, 1, 0, 0, 1, 0, 1, 0, 0, 0, 0, 0, 1, 0, 1, 1, 0, 1, 0, 0, 1,\n",
              "       0, 0, 0, 0, 0, 0, 1, 0, 0, 1, 1, 1, 1, 0, 0, 1, 0, 0, 0, 0, 1, 0,\n",
              "       0, 1, 0, 1, 0, 1, 0, 0, 0, 0, 0, 0, 0, 0, 0, 0, 0, 1, 0, 0, 0, 0,\n",
              "       0, 0, 0, 1, 0, 0, 1, 1, 1, 0, 0, 0, 0, 1, 0, 0])"
            ]
          },
          "metadata": {
            "tags": []
          },
          "execution_count": 34
        }
      ]
    },
    {
      "metadata": {
        "id": "nALK5B0dszNV",
        "colab_type": "text"
      },
      "cell_type": "markdown",
      "source": [
        "![alt text](https://scikit-learn.org/stable/_images/sphx_glr_plot_logistic_001.png)"
      ]
    },
    {
      "metadata": {
        "id": "6RyQ8v8XsmDX",
        "colab_type": "text"
      },
      "cell_type": "markdown",
      "source": [
        "**Plotting the graph ,  but our data is not in the following format**\n",
        "\n",
        "**Our data has multiple features and comparing any one of the features with outcomes , we have not dictinctive features as above,**\n"
      ]
    },
    {
      "metadata": {
        "id": "T8C90pDrtB0_",
        "colab_type": "code",
        "colab": {
          "base_uri": "https://localhost:8080/",
          "height": 265
        },
        "outputId": "6674bfa8-7c34-48b9-a9ac-f70f93186e68"
      },
      "cell_type": "code",
      "source": [
        "plt.scatter(X_train['Insulin'], y_train, edgecolor='k')\n",
        "plt.show()"
      ],
      "execution_count": 35,
      "outputs": [
        {
          "output_type": "display_data",
          "data": {
            "image/png": "[encoded data removed]",
            "text/plain": [
              "<Figure size 432x288 with 1 Axes>"
            ]
          },
          "metadata": {
            "tags": []
          }
        }
      ]
    },
    {
      "metadata": {
        "id": "-9r6E087tVqe",
        "colab_type": "text"
      },
      "cell_type": "markdown",
      "source": [
        "**so lets try PCA to reduce the dimension of dataset , and see , if the features becomes distinctive**"
      ]
    },
    {
      "metadata": {
        "id": "bSObG_6ychXI",
        "colab_type": "code",
        "colab": {
          "base_uri": "https://localhost:8080/",
          "height": 265
        },
        "outputId": "28721177-295d-4433-996b-d35d597b13f6"
      },
      "cell_type": "code",
      "source": [
        "from sklearn.decomposition import PCA\n",
        "pca = PCA(n_components=2)\n",
        "principalComponents = pca.fit_transform(X_test)\n",
        "principalDf = pd.DataFrame(data = principalComponents\n",
        "             , columns = ['data1', 'data2'])\n",
        "\n",
        "plt.scatter(principalDf['data2'], y_test, edgecolor='k')\n",
        "# plt.plot(principalDf['data2'], predict, color='blue', linewidth=3)\n",
        "\n",
        "# plt.xticks(())\n",
        "# plt.yticks(())\n",
        "\n",
        "plt.show()"
      ],
      "execution_count": 36,
      "outputs": [
        {
          "output_type": "display_data",
          "data": {
            "image/png": "[encoded data removed]",
            "text/plain": [
              "<Figure size 432x288 with 1 Axes>"
            ]
          },
          "metadata": {
            "tags": []
          }
        }
      ]
    },
    {
      "metadata": {
        "id": "UbyXGWBAt4P_",
        "colab_type": "text"
      },
      "cell_type": "markdown",
      "source": [
        "**So , the traditional best fit line approach is not suitable in logistic regression , rather than plotting the line, we can  scatter plot it. \n",
        "Red plots are valid test data , and blue plots are predicted test data**"
      ]
    },
    {
      "metadata": {
        "id": "yc6Vg8Z_oDyR",
        "colab_type": "code",
        "colab": {
          "base_uri": "https://localhost:8080/",
          "height": 1120
        },
        "outputId": "951822f4-8420-4caa-eabb-cc93fc317b65"
      },
      "cell_type": "code",
      "source": [
        "from mpl_toolkits.mplot3d import Axes3D\n",
        "%matplotlib inline\n",
        "fig = plt.figure(figsize=(25, 18), dpi=80)\n",
        "n = 100\n",
        "ax = fig.add_subplot(111, projection='3d')\n",
        "xs = principalDf['data1']\n",
        "ys = principalDf['data2']\n",
        "zs = y_test\n",
        "ax.scatter(xs, ys, zs, c=\"r\", alpha = 0.7, marker= \"o\")\n",
        "xs = principalDf['data1']\n",
        "ys = principalDf['data2']\n",
        "zs = predict\n",
        "ax.scatter(xs, ys, zs, c=\"b\", alpha = 0.7, marker = '^')\n",
        "plt.show()"
      ],
      "execution_count": 37,
      "outputs": [
        {
          "output_type": "display_data",
          "data": {
            "image/png": "[encoded data removed]",
            "text/plain": [
              "<Figure size 2000x1440 with 1 Axes>"
            ]
          },
          "metadata": {
            "tags": []
          }
        }
      ]
    },
    {
      "metadata": {
        "id": "496IuerHuyWj",
        "colab_type": "text"
      },
      "cell_type": "markdown",
      "source": [
        "# **Logistic regression in Tensorflow**\n",
        "\n",
        "This notebook is solution of course : https://github.com/chiphuyen/stanford-tensorflow-tutorials  \n",
        "Some code is referenced from there"
      ]
    },
    {
      "metadata": {
        "id": "SfT7b7wSFQYv",
        "colab_type": "text"
      },
      "cell_type": "markdown",
      "source": [
        "**Vanilla model**"
      ]
    },
    {
      "metadata": {
        "id": "9oWngDeXu0PK",
        "colab_type": "code",
        "colab": {}
      },
      "cell_type": "code",
      "source": [
        "import tensorflow as tf\n",
        "tf.reset_default_graph()\n",
        "from tensorflow.examples.tutorials.mnist import input_data\n",
        "import numpy as np\n",
        "import warnings\n",
        "warnings.filterwarnings(\"ignore\")\n",
        "import time\n",
        "\n",
        "\n",
        "#parameters\n",
        "\n",
        "learning_rate = 0.001\n",
        "batch_size = 128\n",
        "n_epochs = 30\n",
        "n_train = 60000\n",
        "n_test = 10000\n",
        "\n",
        "def vanilla_model(mnist_folder):\n",
        "  # step 1 : Read data\n",
        "  tf.reset_default_graph()\n",
        "  mnist = input_data.read_data_sets(mnist_folder, one_hot=True)\n",
        "  X_batch , Y_batch = mnist.train.next_batch(batch_size)\n",
        "\n",
        "\n",
        "  #step 2 : ceate placeholder s\n",
        "  X = tf.placeholder(tf.float32, [batch_size, 784], name=\"image\")\n",
        "  Y = tf.placeholder(tf.int32, [batch_size,10], name=\"label\")\n",
        "\n",
        "\n",
        "  # step 3 : initialize weight and bias\n",
        "  # weight : initialize weight mean : 0 , std-dev : 0.1\n",
        "  # tf.random_normal_initializer()\n",
        "  # bias : 0.0 , tf.zeros_initializer()\n",
        "  # img = (?,784) * weight = (784,10) = (?,10) + bias (1,10)\n",
        "  w = tf.get_variable(\"weight\", shape=(784, 10),\n",
        "                      initializer=tf.random_normal_initializer(mean=0,\n",
        "                                                               stddev=0.1))\n",
        "  b = tf.get_variable(\"bias\", shape=(1, 10), initializer=\n",
        "                      tf.zeros_initializer())\n",
        "\n",
        "\n",
        "  # step 4: model , logits , model that return logits\n",
        "  logits = tf.matmul(X, w) + b\n",
        "\n",
        "  #step 5 : softmax\n",
        "  entropy = tf.nn.softmax_cross_entropy_with_logits(logits=logits, labels=Y ,\n",
        "                                                    name = \"loss\")\n",
        "  loss = tf.reduce_mean(entropy)\n",
        "\n",
        "\n",
        "  # st\n",
        "  optimizer = tf.train.AdamOptimizer(learning_rate).minimize(loss)\n",
        "\n",
        "  preds = tf.nn.softmax(logits)\n",
        "  correct_pred = tf.equal(tf.argmax(preds,1), tf.argmax(Y,1))\n",
        "  accuracy = tf.reduce_sum(tf.cast(correct_pred, tf.float32))\n",
        "\n",
        "  start = time.time()\n",
        "\n",
        "  writer = tf.summary.FileWriter('./graphs/logreg_placeholder',\n",
        "                                 tf.get_default_graph())\n",
        "\n",
        "  with tf.name_scope(\"summaries_loss\"):\n",
        "      tf.summary.scalar(\"loss\", loss)\n",
        "      tf.summary.histogram(\"loss histogram\", loss)\n",
        "      summary_op1 = tf.summary.merge_all()\n",
        "\n",
        "  with tf.name_scope(\"summaries_accuracy\"):\n",
        "      tf.summary.scalar(\"accuracy\", accuracy)\n",
        "      tf.summary.histogram(\"accuracy histogram\", accuracy)\n",
        "      summary_op2 = tf.summary.merge_all()\n",
        "\n",
        "  with tf.Session() as sess:\n",
        "      sess.run(tf.global_variables_initializer())\n",
        "      n_batches = int(mnist.train.num_examples/batch_size)\n",
        "      for i in range(n_epochs):\n",
        "          total_loss = 0\n",
        "          for j in range(n_batches):\n",
        "              X_batch , Y_batch = mnist.train.next_batch(batch_size)\n",
        "              _, loss_batch, summary = sess.run([optimizer, loss, summary_op1],\n",
        "                                        feed_dict={X:X_batch, Y:Y_batch})\n",
        "              total_loss += loss_batch\n",
        "          writer.add_summary(summary, global_step=i)\n",
        "          print('Average loss epoch {0}: {1}'.format(i, total_loss/n_batches))\n",
        "      print('Total time: {0} seconds'.format(time.time() -start))\n",
        "\n",
        "      total_correct_preds = 0\n",
        "      n_batches = int(mnist.test.num_examples / batch_size)\n",
        "      for i in range(n_batches):\n",
        "          X_batch, Y_batch = mnist.test.next_batch(batch_size)\n",
        "          accuracy_batch, summary = sess.run([accuracy, summary_op2], feed_dict={\n",
        "              X:X_batch,Y:Y_batch})\n",
        "          total_correct_preds +=accuracy_batch\n",
        "          writer.add_summary(summary, global_step=i)\n",
        "\n",
        "      print('Accuracy {0}'.format(total_correct_preds/mnist.test.num_examples))\n",
        "\n",
        "      writer.close()\n"
      ],
      "execution_count": 0,
      "outputs": []
    },
    {
      "metadata": {
        "id": "JVx9ZEXQTsjG",
        "colab_type": "code",
        "colab": {
          "base_uri": "https://localhost:8080/",
          "height": 663
        },
        "outputId": "5dda8465-3af2-46c4-a150-d31a792b770b"
      },
      "cell_type": "code",
      "source": [
        "#mnist\n",
        "vanilla_model('data/mnist')"
      ],
      "execution_count": 73,
      "outputs": [
        {
          "output_type": "stream",
          "text": [
            "Extracting data/mnist/train-images-idx3-ubyte.gz\n",
            "Extracting data/mnist/train-labels-idx1-ubyte.gz\n",
            "Extracting data/mnist/t10k-images-idx3-ubyte.gz\n",
            "Extracting data/mnist/t10k-labels-idx1-ubyte.gz\n",
            "INFO:tensorflow:Summary name loss histogram is illegal; using loss_histogram instead.\n",
            "INFO:tensorflow:Summary name accuracy histogram is illegal; using accuracy_histogram instead.\n",
            "Average loss epoch 0: 0.7447563964170176\n",
            "Average loss epoch 1: 0.38293971378347536\n",
            "Average loss epoch 2: 0.3333052603445409\n",
            "Average loss epoch 3: 0.30943027402693296\n",
            "Average loss epoch 4: 0.29694550062392977\n",
            "Average loss epoch 5: 0.2860693953636087\n",
            "Average loss epoch 6: 0.2794604073246042\n",
            "Average loss epoch 7: 0.2746426880984873\n",
            "Average loss epoch 8: 0.270474680011228\n",
            "Average loss epoch 9: 0.26631432695266527\n",
            "Average loss epoch 10: 0.2640566843581366\n",
            "Average loss epoch 11: 0.26075619806498634\n",
            "Average loss epoch 12: 0.2582138928395885\n",
            "Average loss epoch 13: 0.256019149505314\n",
            "Average loss epoch 14: 0.2556865794327987\n",
            "Average loss epoch 15: 0.2527073784308\n",
            "Average loss epoch 16: 0.2525735166453537\n",
            "Average loss epoch 17: 0.24961051674850615\n",
            "Average loss epoch 18: 0.2499212748208246\n",
            "Average loss epoch 19: 0.2476098640085934\n",
            "Average loss epoch 20: 0.24805628360707166\n",
            "Average loss epoch 21: 0.24588402306839025\n",
            "Average loss epoch 22: 0.2459046145801222\n",
            "Average loss epoch 23: 0.2427791082289391\n",
            "Average loss epoch 24: 0.2441927173754552\n",
            "Average loss epoch 25: 0.24424627638641216\n",
            "Average loss epoch 26: 0.24108947730147756\n",
            "Average loss epoch 27: 0.24198325063451465\n",
            "Average loss epoch 28: 0.23982767825012719\n",
            "Average loss epoch 29: 0.24121892704066142\n",
            "Total time: 18.9550724029541 seconds\n",
            "Accuracy 0.9251\n"
          ],
          "name": "stdout"
        }
      ]
    },
    {
      "metadata": {
        "id": "6LkPHmFmUDkA",
        "colab_type": "text"
      },
      "cell_type": "markdown",
      "source": [
        "![alt text](http://yaroslavvb.com/upload/notMNIST/nmn.png)"
      ]
    },
    {
      "metadata": {
        "id": "0BZsCtnzTtxD",
        "colab_type": "code",
        "colab": {
          "base_uri": "https://localhost:8080/",
          "height": 663
        },
        "outputId": "74a01edb-d418-48ed-ff9a-2ef55351be8c"
      },
      "cell_type": "code",
      "source": [
        "#not mnist\n",
        "vanilla_model('data')"
      ],
      "execution_count": 74,
      "outputs": [
        {
          "output_type": "stream",
          "text": [
            "Extracting data/train-images-idx3-ubyte.gz\n",
            "Extracting data/train-labels-idx1-ubyte.gz\n",
            "Extracting data/t10k-images-idx3-ubyte.gz\n",
            "Extracting data/t10k-labels-idx1-ubyte.gz\n",
            "INFO:tensorflow:Summary name loss histogram is illegal; using loss_histogram instead.\n",
            "INFO:tensorflow:Summary name accuracy histogram is illegal; using accuracy_histogram instead.\n",
            "Average loss epoch 0: 0.7423672779595657\n",
            "Average loss epoch 1: 0.380263884375979\n",
            "Average loss epoch 2: 0.33189708709994675\n",
            "Average loss epoch 3: 0.30928758279982704\n",
            "Average loss epoch 4: 0.29621658156384956\n",
            "Average loss epoch 5: 0.28679996812260233\n",
            "Average loss epoch 6: 0.2798946531780394\n",
            "Average loss epoch 7: 0.2743614659859584\n",
            "Average loss epoch 8: 0.2706448151654019\n",
            "Average loss epoch 9: 0.2670344883502224\n",
            "Average loss epoch 10: 0.26435260460787996\n",
            "Average loss epoch 11: 0.2602632722724012\n",
            "Average loss epoch 12: 0.26010816476561804\n",
            "Average loss epoch 13: 0.25632827206230385\n",
            "Average loss epoch 14: 0.2559235385664693\n",
            "Average loss epoch 15: 0.25399943048651125\n",
            "Average loss epoch 16: 0.25209949980109997\n",
            "Average loss epoch 17: 0.25075508311981365\n",
            "Average loss epoch 18: 0.2506979762257396\n",
            "Average loss epoch 19: 0.24858423739254892\n",
            "Average loss epoch 20: 0.24701661086860516\n",
            "Average loss epoch 21: 0.24610855937490375\n",
            "Average loss epoch 22: 0.24631768810651797\n",
            "Average loss epoch 23: 0.24384503632714422\n",
            "Average loss epoch 24: 0.24180877368489068\n",
            "Average loss epoch 25: 0.24601446385636475\n",
            "Average loss epoch 26: 0.2398570565146444\n",
            "Average loss epoch 27: 0.24417797642779518\n",
            "Average loss epoch 28: 0.24133799702693254\n",
            "Average loss epoch 29: 0.23938170417552784\n",
            "Total time: 19.374152898788452 seconds\n",
            "Accuracy 0.9247\n"
          ],
          "name": "stdout"
        }
      ]
    },
    {
      "metadata": {
        "id": "3WNRWn6cFVa2",
        "colab_type": "text"
      },
      "cell_type": "markdown",
      "source": [
        "The model's ***accuracy*** could be improved by using , one more **hidden layer** and** regularization **\n",
        "\n",
        "The model's ***time*** could be improved by using **dataset** instead of **placeholder.**"
      ]
    },
    {
      "metadata": {
        "id": "2KpdLekTGTn8",
        "colab_type": "code",
        "colab": {}
      },
      "cell_type": "code",
      "source": [
        "import numpy as np\n",
        "import os\n",
        "import urllib\n",
        "import gzip\n",
        "import shutil\n",
        "import struct\n",
        "\n",
        "os.environ['TF_CPP_MIN_LOG_LEVEL']='2'\n",
        "\n",
        "from matplotlib import pyplot as plt\n",
        "import tensorflow as tf\n",
        "\n",
        "def read_birth_life_data(file_name):\n",
        "    with open(file_name) as f:\n",
        "        text = f.read().splitlines()[1:]\n",
        "        data = [line.split('\\t') for line in text]\n",
        "        births = [float(line[1]) for line in data]\n",
        "        lifes = [float(line[2]) for line in data]\n",
        "        data = list(zip(births, lifes))\n",
        "        n_samples = len(data)\n",
        "        data = np.asarray(data, dtype=np.float32)\n",
        "    return data, n_samples\n",
        "\n",
        "\n",
        "def download_one_file(download_url,\n",
        "                    local_dest,\n",
        "                    expected_byte=None,\n",
        "                    unzip_and_remove=False):\n",
        "    \"\"\"\n",
        "    Download the file from download_url into local_dest\n",
        "    if the file doesn't already exists.\n",
        "    If expected_byte is provided, check if\n",
        "    the downloaded file has the same number of bytes.\n",
        "    If unzip_and_remove is True, unzip the file and remove the zip file\n",
        "    \"\"\"\n",
        "    if os.path.exists(local_dest) or os.path.exists(local_dest[:-3]):\n",
        "        print('%s already exists' %local_dest)\n",
        "    else:\n",
        "        print('Downloading %s' %download_url)\n",
        "        local_file, _ = urllib.request.urlretrieve(download_url, local_dest)\n",
        "        file_stat = os.stat(local_dest)\n",
        "        if expected_byte:\n",
        "            if file_stat.st_size == expected_byte:\n",
        "                print('Successfully downloaded %s' %local_dest)\n",
        "                if unzip_and_remove:\n",
        "                    with gzip.open(local_dest, 'rb') as f_in, open(local_dest[:-3],'wb') as f_out:\n",
        "                        shutil.copyfileobj(f_in, f_out)\n",
        "                    os.remove(local_dest)\n",
        "            else:\n",
        "                print('The downloaded file has unexpected number of bytes')\n",
        "\n",
        "def download_mnist(path):\n",
        "    \"\"\"\n",
        "    Download and unzip the dataset mnist if it's not already downloaded\n",
        "    Download from http://yann.lecun.com/exdb/mnist\n",
        "    \"\"\"\n",
        "    safe_mkdir(path)\n",
        "    url = 'http://yann.lecun.com/exdb/mnist'\n",
        "    filenames = ['train-images-idx3-ubyte.gz',\n",
        "                'train-labels-idx1-ubyte.gz',\n",
        "                't10k-images-idx3-ubyte.gz',\n",
        "                't10k-labels-idx1-ubyte.gz']\n",
        "    expected_bytes = [9912422, 28881, 1648877, 4542]\n",
        "\n",
        "    for filename, byte in zip(filenames, expected_bytes):\n",
        "        download_url = os.path.join(url, filename)\n",
        "        local_dest = os.path.join(path, filename)\n",
        "        download_one_file(download_url, local_dest, byte, True)\n",
        "\n",
        "def safe_mkdir(path):\n",
        "    \"\"\" Create a directory if there isn't one already. \"\"\"\n",
        "    try:\n",
        "        os.mkdir(path)\n",
        "    except OSError:\n",
        "        pass\n",
        "\n",
        "\n",
        "def read_mnist(path, flatten=True, num_train=55000):\n",
        "    \"\"\"\n",
        "    Read in the mnist dataset, given that the data is stored in path\n",
        "    Return two tuples of numpy arrays\n",
        "    ((train_imgs, train_labels), (test_imgs, test_labels))\n",
        "    \"\"\"\n",
        "    imgs, labels = parse_data(path, 'train', flatten)\n",
        "    indices = np.random.permutation(labels.shape[0])\n",
        "    train_idx, val_idx = indices[:num_train], indices[num_train:]\n",
        "    train_img, train_labels = imgs[train_idx, :], labels[train_idx, :]\n",
        "    val_img, val_labels = imgs[val_idx, :], labels[val_idx, :]\n",
        "    test = parse_data(path, 't10k', flatten)\n",
        "    return (train_img, train_labels), (val_img, val_labels), test\n",
        "\n",
        "\n",
        "def get_mnist_dataset(batch_size):\n",
        "    # Step 1: Read in data\n",
        "    mnist_folder = 'data/mnist'\n",
        "    download_mnist(mnist_folder)\n",
        "    train, val, test = read_mnist(mnist_folder, flatten=False)\n",
        "\n",
        "    # Step 2: Create datasets and iterator\n",
        "    train_data = tf.data.Dataset.from_tensor_slices(train)\n",
        "    train_data = train_data.shuffle(10000) # if you want to shuffle your data\n",
        "    train_data = train_data.batch(batch_size)\n",
        "\n",
        "    test_data = tf.data.Dataset.from_tensor_slices(test)\n",
        "    test_data = test_data.batch(batch_size)\n",
        "\n",
        "    return train_data, test_data\n",
        "\n",
        "def parse_data(path, dataset, flatten):\n",
        "    if dataset != 'train' and dataset != 't10k':\n",
        "        raise NameError('dataset must be train or t10k')\n",
        "\n",
        "    label_file = os.path.join(path, dataset + '-labels-idx1-ubyte')\n",
        "    with open(label_file, 'rb') as file:\n",
        "        _, num = struct.unpack(\">II\", file.read(8))\n",
        "        labels = np.fromfile(file, dtype=np.int8)  # int8\n",
        "        new_labels = np.zeros((num, 10))\n",
        "        new_labels[np.arange(num), labels] = 1\n",
        "\n",
        "    img_file = os.path.join(path, dataset + '-images-idx3-ubyte')\n",
        "    with open(img_file, 'rb') as file:\n",
        "        _, num, rows, cols = struct.unpack(\">IIII\", file.read(16))\n",
        "        imgs = np.fromfile(file, dtype=np.uint8).reshape(num, rows,\n",
        "                                                         cols)  # uint8\n",
        "        imgs = imgs.astype(np.float32) / 255.0\n",
        "        if flatten:\n",
        "            imgs = imgs.reshape([num, -1])\n",
        "\n",
        "    return imgs, new_labels\n",
        "\n",
        "def show(image):\n",
        "    \"\"\"\n",
        "    Render a given numpy.uint8 2D array of pixel data.\n",
        "    \"\"\"\n",
        "    plt.imshow(image, cmap='gray')\n",
        "    plt.show()\n",
        "\n",
        "def huber_loss(labels, predictions, delta=14.0):\n",
        "    residual = tf.abs(labels - predictions)\n",
        "    def f1(): return 0.5 * tf.square(residual)\n",
        "    def f2(): return delta * residual - 0.5 * tf.square(delta)\n",
        "    return tf.cond(residual < delta, f1, f2)"
      ],
      "execution_count": 0,
      "outputs": []
    },
    {
      "metadata": {
        "id": "vqUDkA-2BtTy",
        "colab_type": "code",
        "colab": {
          "base_uri": "https://localhost:8080/",
          "height": 1870
        },
        "outputId": "ff34cbeb-6f61-4443-cb0e-600e117b9d3d"
      },
      "cell_type": "code",
      "source": [
        "import tensorflow as tf\n",
        "tf.reset_default_graph()\n",
        "import numpy as np\n",
        "import time\n",
        "import os\n",
        "\n",
        "# import utils\n",
        "\n",
        "#parameters\n",
        "\n",
        "learning_rate = 0.001\n",
        "batch_size = 128\n",
        "n_epochs = 100\n",
        "n_train = 60000\n",
        "n_test = 10000\n",
        "n_nodes = 1024\n",
        "\n",
        "# step 1 : Read data\n",
        "mnist_folder = 'data/mnist'\n",
        "download_mnist(mnist_folder)\n",
        "train, val, test = read_mnist(mnist_folder, flatten=True)\n",
        "\n",
        "\n",
        "# step2 : create dataset and iterators\n",
        "train_data = tf.data.Dataset.from_tensor_slices(train)\n",
        "train_data = train_data.shuffle(1000)\n",
        "train_data = train_data.batch(batch_size)\n",
        "\n",
        "test_data = tf.data.Dataset.from_tensor_slices(test)\n",
        "test_data = test_data.batch(batch_size)\n",
        "\n",
        "# create one iteration and initialize it from different dataset\n",
        "iterator = tf.data.Iterator.from_structure(train_data.output_types,\n",
        "                                           train_data.output_shapes)\n",
        "img, label = iterator.get_next()\n",
        "\n",
        "train_init = iterator.make_initializer(train_data) # initializer for traindata\n",
        "test_init = iterator.make_initializer(test_data)  #\n",
        "\n",
        "# step 3 : initialize weight and bias\n",
        "# weight : initiali weight mean : 0 , std-dev : 0.1\n",
        "# tf.random_normal_initializer()\n",
        "# bias : 0.0 , tf.zeros_initializer()\n",
        "# img = (?,784) * weight = (784,10) = (?,10) + bias (1,10)\n",
        "print(img.shape, label.shape)\n",
        "w1 = tf.get_variable(\"weight1\", shape=(int(img.shape[1]), n_nodes),\n",
        "                     initializer=tf.random_normal_initializer(mean=0,\n",
        "                                                              stddev=0.01))\n",
        "b1 = tf.get_variable(\"bias1\", shape=(1, n_nodes), initializer=\n",
        "                     tf.zeros_initializer())\n",
        "\n",
        "w2 = tf.get_variable(\"weight2\", shape=(n_nodes, int(label.shape[1])),\n",
        "                     initializer=tf.random_normal_initializer(mean=0,\n",
        "                                                              stddev=0.01))\n",
        "b2 = tf.get_variable(\"bias2\", shape=(1, int(label.shape[1])), initializer=\n",
        "                     tf.zeros_initializer())\n",
        "\n",
        "# step 4: model , logits , model that return logits\n",
        "logits1 = tf.add(tf.matmul(img, w1), b1)\n",
        "relu_layer1 = tf.nn.relu(logits1)\n",
        "\n",
        "logits2 = tf.add(tf.matmul(relu_layer1, w2), b2)\n",
        "relu_layer2 = tf.nn.relu(logits2)\n",
        "\n",
        "\n",
        "# step 5 : entropy and loss\n",
        "entropy1 = tf.nn.softmax_cross_entropy_with_logits_v2(logits=relu_layer2,\n",
        "                                                      labels=label,\n",
        "                                                      name=\"loss\")\n",
        "loss = tf.reduce_mean(entropy1)\n",
        "\n",
        "\n",
        "# adding regularization\n",
        "beta = 0.01\n",
        "regularizer = tf.nn.l2_loss(w2)\n",
        "loss = tf.reduce_mean(loss + beta * regularizer)\n",
        "\n",
        "\n",
        "\n",
        "#step 6 : optimizer\n",
        "optimizer = tf.train.AdamOptimizer(learning_rate).minimize(loss) #\n",
        "\n",
        "\n",
        "correct_predictions = tf.equal(tf.argmax(relu_layer2, 1), tf.argmax(label, 1))\n",
        "accuracy = tf.reduce_sum(tf.cast(correct_predictions, tf.float32))\n",
        "\n",
        "\n",
        "with tf.name_scope(\"summary_loss\"):\n",
        "    tf.summary.scalar(\"loss\", loss)\n",
        "    tf.summary.histogram(\"loss histogram\", loss)\n",
        "    summary_op1 = tf.summary.merge_all()\n",
        "\n",
        "with tf.name_scope(\"summary_accuracy\"):\n",
        "    tf.summary.scalar(\"loss\", accuracy)\n",
        "    tf.summary.histogram(\"loss histogram\", accuracy)\n",
        "    summary_op2 = tf.summary.merge_all()\n",
        "\n",
        "writer = tf.summary.FileWriter(\"./graphs/logdatareg\", tf.get_default_graph())\n",
        "\n",
        "with tf.Session() as sess:\n",
        "    sess.run(tf.global_variables_initializer())\n",
        "    start_time = time.time()\n",
        "    for i in range(n_epochs):\n",
        "        sess.run(train_init)\n",
        "        total_loss = 0\n",
        "        n_batches =0\n",
        "        try:\n",
        "            while True:\n",
        "                _, _loss, summary = sess.run([optimizer, loss, summary_op1])\n",
        "                total_loss +=_loss\n",
        "                n_batches +=1\n",
        "\n",
        "        except tf.errors.OutOfRangeError:\n",
        "            pass\n",
        "        writer.add_summary(summary, global_step=i)\n",
        "        print('Average loss epoch {0} : {1}'.format(i, total_loss/n_batches))\n",
        "    print(\"total time: {0}\".format(time.time() - start_time))\n",
        "\n",
        "    # for accuracy\n",
        "    sess.run(test_init)\n",
        "    total_correct_pred =0\n",
        "    i = 0\n",
        "    try:\n",
        "        while True:\n",
        "            accuracy_batch, summary = sess.run([accuracy, summary_op2])\n",
        "            total_correct_pred += accuracy_batch\n",
        "            i += 1\n",
        "            writer.add_summary(summary, global_step=i)\n",
        "    except tf.errors.OutOfRangeError:\n",
        "        pass\n",
        "    print(\"ACCURACY {0} \".format(total_correct_pred/n_test))\n",
        "    writer.close()\n",
        "\n"
      ],
      "execution_count": 81,
      "outputs": [
        {
          "output_type": "stream",
          "text": [
            "data/mnist/train-images-idx3-ubyte.gz already exists\n",
            "data/mnist/train-labels-idx1-ubyte.gz already exists\n",
            "data/mnist/t10k-images-idx3-ubyte.gz already exists\n",
            "data/mnist/t10k-labels-idx1-ubyte.gz already exists\n",
            "(?, 784) (?, 10)\n",
            "INFO:tensorflow:Summary name loss histogram is illegal; using loss_histogram instead.\n",
            "INFO:tensorflow:Summary name loss histogram is illegal; using loss_histogram instead.\n",
            "Average loss epoch 0 : 0.638590010307556\n",
            "Average loss epoch 1 : 0.3971991384098696\n",
            "Average loss epoch 2 : 0.36030514562545823\n",
            "Average loss epoch 3 : 0.33893125750297726\n",
            "Average loss epoch 4 : 0.32456892302563023\n",
            "Average loss epoch 5 : 0.31363838793233384\n",
            "Average loss epoch 6 : 0.3043999434557072\n",
            "Average loss epoch 7 : 0.2972677931536076\n",
            "Average loss epoch 8 : 0.29257021473590716\n",
            "Average loss epoch 9 : 0.28704610453095547\n",
            "Average loss epoch 10 : 0.2815502213530762\n",
            "Average loss epoch 11 : 0.2783116690987764\n",
            "Average loss epoch 12 : 0.2745667520997136\n",
            "Average loss epoch 13 : 0.27110056946443956\n",
            "Average loss epoch 14 : 0.26761564279711525\n",
            "Average loss epoch 15 : 0.26548610809583995\n",
            "Average loss epoch 16 : 0.2629438043680302\n",
            "Average loss epoch 17 : 0.2605884029248426\n",
            "Average loss epoch 18 : 0.26015192540579063\n",
            "Average loss epoch 19 : 0.25729110452324844\n",
            "Average loss epoch 20 : 0.2543661588499712\n",
            "Average loss epoch 21 : 0.25374946266759274\n",
            "Average loss epoch 22 : 0.25132005474595137\n",
            "Average loss epoch 23 : 0.2508078373448793\n",
            "Average loss epoch 24 : 0.24811991248712983\n",
            "Average loss epoch 25 : 0.24774870467047358\n",
            "Average loss epoch 26 : 0.2466288213466489\n",
            "Average loss epoch 27 : 0.2455838810739129\n",
            "Average loss epoch 28 : 0.24522019404658052\n",
            "Average loss epoch 29 : 0.24346687653383545\n",
            "Average loss epoch 30 : 0.24246813168012818\n",
            "Average loss epoch 31 : 0.24190627080063487\n",
            "Average loss epoch 32 : 0.24011975532007773\n",
            "Average loss epoch 33 : 0.24001788372217223\n",
            "Average loss epoch 34 : 0.2397128903415314\n",
            "Average loss epoch 35 : 0.23937423419813778\n",
            "Average loss epoch 36 : 0.23745841418587885\n",
            "Average loss epoch 37 : 0.238958643688712\n",
            "Average loss epoch 38 : 0.23832719149284584\n",
            "Average loss epoch 39 : 0.23486741990890614\n",
            "Average loss epoch 40 : 0.2359907160837983\n",
            "Average loss epoch 41 : 0.23590869998862576\n",
            "Average loss epoch 42 : 0.23430879509379698\n",
            "Average loss epoch 43 : 0.2370523019932037\n",
            "Average loss epoch 44 : 0.23460505866380624\n",
            "Average loss epoch 45 : 0.2339075106347716\n",
            "Average loss epoch 46 : 0.23374435080345288\n",
            "Average loss epoch 47 : 0.2347217397980912\n",
            "Average loss epoch 48 : 0.23141357851929442\n",
            "Average loss epoch 49 : 0.23206697976173357\n",
            "Average loss epoch 50 : 0.2316334064443444\n",
            "Average loss epoch 51 : 0.23065870392114618\n",
            "Average loss epoch 52 : 0.23204336067618325\n",
            "Average loss epoch 53 : 0.2336053583857625\n",
            "Average loss epoch 54 : 0.22922657549727796\n",
            "Average loss epoch 55 : 0.23038955621941146\n",
            "Average loss epoch 56 : 0.20469460617317708\n",
            "Average loss epoch 57 : 0.025094327872055906\n",
            "Average loss epoch 58 : 0.022257534884522822\n",
            "Average loss epoch 59 : 0.02196969312594034\n",
            "Average loss epoch 60 : 0.023165247784277726\n",
            "Average loss epoch 61 : 0.020229815139413573\n",
            "Average loss epoch 62 : 0.020260017040337242\n",
            "Average loss epoch 63 : 0.021480082495268\n",
            "Average loss epoch 64 : 0.020588974585366803\n",
            "Average loss epoch 65 : 0.022402788072737843\n",
            "Average loss epoch 66 : 0.017942495953811463\n",
            "Average loss epoch 67 : 0.017907655533663063\n",
            "Average loss epoch 68 : 0.02202328937128186\n",
            "Average loss epoch 69 : 0.01926870400432584\n",
            "Average loss epoch 70 : 0.016989299995001664\n",
            "Average loss epoch 71 : 0.01783194129983353\n",
            "Average loss epoch 72 : 0.02027151712194778\n",
            "Average loss epoch 73 : 0.018372206052028855\n",
            "Average loss epoch 74 : 0.016926117159079674\n",
            "Average loss epoch 75 : 0.015969704130534515\n",
            "Average loss epoch 76 : 0.016768111238732588\n",
            "Average loss epoch 77 : 0.022457991564256506\n",
            "Average loss epoch 78 : 0.015602737294813228\n",
            "Average loss epoch 79 : 0.02159848964534873\n",
            "Average loss epoch 80 : 0.016137591838230228\n",
            "Average loss epoch 81 : 0.015762524989022073\n",
            "Average loss epoch 82 : 0.018410356890756725\n",
            "Average loss epoch 83 : 0.01763253418815344\n",
            "Average loss epoch 84 : 0.01514731555484062\n",
            "Average loss epoch 85 : 0.01623136570114036\n",
            "Average loss epoch 86 : 0.019765146481696257\n",
            "Average loss epoch 87 : 0.013686115927127904\n",
            "Average loss epoch 88 : 0.020163322049517964\n",
            "Average loss epoch 89 : 0.015310240591074838\n",
            "Average loss epoch 90 : 0.013672437980164622\n",
            "Average loss epoch 91 : 0.01711063012913909\n",
            "Average loss epoch 92 : 0.014897591538380744\n",
            "Average loss epoch 93 : 0.015241921303230663\n",
            "Average loss epoch 94 : 0.018871045714720737\n",
            "Average loss epoch 95 : 0.012579579974069844\n",
            "Average loss epoch 96 : 0.0184814668693688\n",
            "Average loss epoch 97 : 0.013612412882232389\n",
            "Average loss epoch 98 : 0.015673702355300963\n",
            "Average loss epoch 99 : 0.01908561358618182\n",
            "total time: 615.329675912857\n",
            "ACCURACY 0.9837 \n"
          ],
          "name": "stdout"
        }
      ]
    },
    {
      "metadata": {
        "id": "6SorfIPItWoc",
        "colab_type": "text"
      },
      "cell_type": "markdown",
      "source": [
        "To download the data from mnist , add following link to the curl\n",
        "\n",
        "http://yann.lecun.com/exdb/mnist/train-images-idx3-ubyte.gz\n",
        "\n",
        "http://yann.lecun.com/exdb/mnist/train-labels-idx1-ubyte.gz\n",
        "\n",
        "http://yann.lecun.com/exdb/mnist/t10k-images-idx3-ubyte.gz\n",
        "\n",
        "http://yann.lecun.com/exdb/mnist/t10k-labels-idx1-ubyte.gz"
      ]
    },
    {
      "metadata": {
        "id": "rOG6eJuWrgYd",
        "colab_type": "code",
        "colab": {
          "base_uri": "https://localhost:8080/",
          "height": 68
        },
        "outputId": "758717ff-8e8e-4ebf-964a-47dcb1c49fa4"
      },
      "cell_type": "code",
      "source": [
        "!curl -O http://yann.lecun.com/exdb/mnist/train-images-idx3-ubyte.gz\n",
        "!curl -O http://yann.lecun.com/exdb/mnist/train-labels-idx1-ubyte.gz\n",
        "!curl -O http://yann.lecun.com/exdb/mnist/t10k-images-idx3-ubyte.gz\n",
        "!curl -O http://yann.lecun.com/exdb/mnist/t10k-labels-idx1-ubyte.gz"
      ],
      "execution_count": 4,
      "outputs": [
        {
          "output_type": "stream",
          "text": [
            "  % Total    % Received % Xferd  Average Speed   Time    Time     Time  Current\n",
            "                                 Dload  Upload   Total   Spent    Left  Speed\n",
            "\r  0     0    0     0    0     0      0      0 --:--:-- --:--:-- --:--:--     0\r100  4542  100  4542    0     0  96638      0 --:--:-- --:--:-- --:--:-- 96638\n"
          ],
          "name": "stdout"
        }
      ]
    },
    {
      "metadata": {
        "id": "NvxnkzxOtiPC",
        "colab_type": "text"
      },
      "cell_type": "markdown",
      "source": [
        "unzip it"
      ]
    },
    {
      "metadata": {
        "id": "fJxeFK3trz8d",
        "colab_type": "code",
        "colab": {}
      },
      "cell_type": "code",
      "source": [
        "!gunzip t*-ubyte.gz"
      ],
      "execution_count": 0,
      "outputs": []
    },
    {
      "metadata": {
        "id": "rJU4bxnHsKGF",
        "colab_type": "code",
        "colab": {
          "base_uri": "https://localhost:8080/",
          "height": 51
        },
        "outputId": "88576278-277d-4e91-9387-59088bcff7ae"
      },
      "cell_type": "code",
      "source": [
        "!ls"
      ],
      "execution_count": 15,
      "outputs": [
        {
          "output_type": "stream",
          "text": [
            "data\t     t10k-images-idx3-ubyte  train-images-idx3-ubyte\n",
            "sample_data  t10k-labels-idx1-ubyte  train-labels-idx1-ubyte\n"
          ],
          "name": "stdout"
        }
      ]
    },
    {
      "metadata": {
        "id": "nJfEExHYt9vL",
        "colab_type": "code",
        "colab": {}
      },
      "cell_type": "code",
      "source": [
        "!sudo mkdir data\n",
        "!sudo mkdir data/mnist"
      ],
      "execution_count": 0,
      "outputs": []
    },
    {
      "metadata": {
        "id": "57mz-xbRsLqx",
        "colab_type": "code",
        "colab": {}
      },
      "cell_type": "code",
      "source": [
        "!sudo cp t10k-images-idx3-ubyte ./data/mnist/\n",
        "!sudo cp t10k-labels-idx1-ubyte ./data/mnist/\n",
        "!sudo cp train-images-idx3-ubyte ./data/mnist/\n",
        "!sudo cp train-labels-idx1-ubyte ./data/mnist/"
      ],
      "execution_count": 0,
      "outputs": []
    },
    {
      "metadata": {
        "id": "BxmSCRcys2NK",
        "colab_type": "code",
        "colab": {
          "base_uri": "https://localhost:8080/",
          "height": 51
        },
        "outputId": "50390411-1825-4138-8572-1eede40c114c"
      },
      "cell_type": "code",
      "source": [
        "!ls data/mnist"
      ],
      "execution_count": 26,
      "outputs": [
        {
          "output_type": "stream",
          "text": [
            "t10k-images-idx3-ubyte\ttrain-images-idx3-ubyte\n",
            "t10k-labels-idx1-ubyte\ttrain-labels-idx1-ubyte\n"
          ],
          "name": "stdout"
        }
      ]
    },
    {
      "metadata": {
        "id": "Nv1J9weGtFxj",
        "colab_type": "code",
        "colab": {
          "base_uri": "https://localhost:8080/",
          "height": 68
        },
        "outputId": "874331cf-c358-402c-8793-a166105eeb98"
      },
      "cell_type": "code",
      "source": [
        "!ls sample_data/\n"
      ],
      "execution_count": 38,
      "outputs": [
        {
          "output_type": "stream",
          "text": [
            "anscombe.json\t\t      mnist_test.csv\n",
            "california_housing_test.csv   mnist_train_small.csv\n",
            "california_housing_train.csv  README.md\n"
          ],
          "name": "stdout"
        }
      ]
    },
    {
      "metadata": {
        "id": "nY0R0Cok8IYa",
        "colab_type": "text"
      },
      "cell_type": "markdown",
      "source": [
        "# **Not mnist dataset**\n",
        "\n",
        "https://github.com/davidflanagan/notMNIST-to-MNIST"
      ]
    },
    {
      "metadata": {
        "id": "6Onz1O1e1Jd0",
        "colab_type": "code",
        "colab": {
          "base_uri": "https://localhost:8080/",
          "height": 68
        },
        "outputId": "d291694d-e6d9-4c77-ecbc-fed2a1ee035b"
      },
      "cell_type": "code",
      "source": [
        "!curl -O http://yaroslavvb.com/upload/notMNIST/notMNIST_large.tar.gz"
      ],
      "execution_count": 43,
      "outputs": [
        {
          "output_type": "stream",
          "text": [
            "  % Total    % Received % Xferd  Average Speed   Time    Time     Time  Current\n",
            "                                 Dload  Upload   Total   Spent    Left  Speed\n",
            "100  235M  100  235M    0     0  61.2M      0  0:00:03  0:00:03 --:--:-- 61.2M\n"
          ],
          "name": "stdout"
        }
      ]
    },
    {
      "metadata": {
        "id": "LjpBYguWHzne",
        "colab_type": "code",
        "colab": {
          "base_uri": "https://localhost:8080/",
          "height": 68
        },
        "outputId": "acf1d8f2-2803-4c84-e38c-b455cf12916b"
      },
      "cell_type": "code",
      "source": [
        "!curl -O http://yaroslavvb.com/upload/notMNIST/notMNIST_small.tar.gz"
      ],
      "execution_count": 54,
      "outputs": [
        {
          "output_type": "stream",
          "text": [
            "  % Total    % Received % Xferd  Average Speed   Time    Time     Time  Current\n",
            "                                 Dload  Upload   Total   Spent    Left  Speed\n",
            "\r  0     0    0     0    0     0      0      0 --:--:-- --:--:-- --:--:--     0\r 28 8259k   28 2349k    0     0  6952k      0  0:00:01 --:--:--  0:00:01 6932k\r100 8259k  100 8259k    0     0  19.0M      0 --:--:-- --:--:-- --:--:-- 19.0M\n"
          ],
          "name": "stdout"
        }
      ]
    },
    {
      "metadata": {
        "id": "5MTc-GAfG4uw",
        "colab_type": "code",
        "colab": {}
      },
      "cell_type": "code",
      "source": [
        "!tar -xzf notMNIST_large.tar.gz"
      ],
      "execution_count": 0,
      "outputs": []
    },
    {
      "metadata": {
        "id": "Xk8PgjLRIVQz",
        "colab_type": "code",
        "colab": {}
      },
      "cell_type": "code",
      "source": [
        "!tar -xzf notMNIST_small.tar.gz"
      ],
      "execution_count": 0,
      "outputs": []
    },
    {
      "metadata": {
        "id": "8wnzxHEbHMAW",
        "colab_type": "code",
        "colab": {
          "base_uri": "https://localhost:8080/",
          "height": 102
        },
        "outputId": "c8f6ad6c-c0be-443a-ba76-e43befc02834"
      },
      "cell_type": "code",
      "source": [
        "!ls"
      ],
      "execution_count": 58,
      "outputs": [
        {
          "output_type": "stream",
          "text": [
            "convert_to_mnist_format.py  notMNIST_large.tar.gz  t10k-images-idx3-ubyte\n",
            "data\t\t\t    notMNIST_mall.tar.gz   t10k-labels-idx1-ubyte\n",
            "diabetes.csv\t\t    notMNIST_small\t   train-images-idx3-ubyte\n",
            "graphs\t\t\t    notMNIST_small.tar.gz  train-labels-idx1-ubyte\n",
            "notMNIST_large\t\t    sample_data\n"
          ],
          "name": "stdout"
        }
      ]
    },
    {
      "metadata": {
        "id": "3uq6AMOHHZT9",
        "colab_type": "code",
        "colab": {
          "base_uri": "https://localhost:8080/",
          "height": 68
        },
        "outputId": "3ae56a31-4d0a-452a-897a-f8a392b39b55"
      },
      "cell_type": "code",
      "source": [
        "!curl -O https://raw.githubusercontent.com/davidflanagan/notMNIST-to-MNIST/master/convert_to_mnist_format.py"
      ],
      "execution_count": 57,
      "outputs": [
        {
          "output_type": "stream",
          "text": [
            "  % Total    % Received % Xferd  Average Speed   Time    Time     Time  Current\n",
            "                                 Dload  Upload   Total   Spent    Left  Speed\n",
            "\r  0     0    0     0    0     0      0      0 --:--:-- --:--:-- --:--:--     0\r100  4149  100  4149    0     0  23050      0 --:--:-- --:--:-- --:--:-- 23178\n"
          ],
          "name": "stdout"
        }
      ]
    },
    {
      "metadata": {
        "id": "4nzskK0kImSf",
        "colab_type": "code",
        "colab": {
          "base_uri": "https://localhost:8080/",
          "height": 119
        },
        "outputId": "d0dd2631-66fa-4008-a3ab-347c88fbf177"
      },
      "cell_type": "code",
      "source": [
        "!python3 convert_to_mnist_format.py notMNIST_large 6000 data/train-labels-idx1-byte data/train-images-idx3-ubyte"
      ],
      "execution_count": 60,
      "outputs": [
        {
          "output_type": "stream",
          "text": [
            "file notMNIST_large/A/Um9tYW5hIEJvbGQucGZi.png is empty\n",
            "file notMNIST_large/A/SG90IE11c3RhcmQgQlROIFBvc3Rlci50dGY=.png is empty\n",
            "file notMNIST_large/B/TmlraXNFRi1TZW1pQm9sZEl0YWxpYy5vdGY=.png is empty\n",
            "file notMNIST_large/D/VHJhbnNpdCBCb2xkLnR0Zg==.png is empty\n",
            "99% complete\n",
            "\n"
          ],
          "name": "stdout"
        }
      ]
    },
    {
      "metadata": {
        "id": "73m9_UznJCNF",
        "colab_type": "code",
        "colab": {
          "base_uri": "https://localhost:8080/",
          "height": 34
        },
        "outputId": "d3398985-e382-4ba3-8137-c6581193afa3"
      },
      "cell_type": "code",
      "source": [
        "!ls data/\n"
      ],
      "execution_count": 62,
      "outputs": [
        {
          "output_type": "stream",
          "text": [
            "mnist  train-images-idx3-ubyte\ttrain-labels-idx1-byte\n"
          ],
          "name": "stdout"
        }
      ]
    },
    {
      "metadata": {
        "id": "CWM__nJNWVeh",
        "colab_type": "text"
      },
      "cell_type": "markdown",
      "source": [
        "More information on Non mnist # **http://yaroslavvb.blogspot.com/2011/09/notmnist-dataset.html**"
      ]
    }
  ]
}