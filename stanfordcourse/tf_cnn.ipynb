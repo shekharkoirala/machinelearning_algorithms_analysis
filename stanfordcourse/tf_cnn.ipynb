{
  "nbformat": 4,
  "nbformat_minor": 0,
  "metadata": {
    "colab": {
      "name": "tf_cnn.ipynb",
      "version": "0.3.2",
      "provenance": [],
      "include_colab_link": true
    },
    "kernelspec": {
      "name": "python3",
      "display_name": "Python 3"
    }
  },
  "cells": [
    {
      "cell_type": "markdown",
      "metadata": {
        "id": "view-in-github",
        "colab_type": "text"
      },
      "source": [
        "<a href=\"https://colab.research.google.com/github/shekharkoirala/machinelearning_algorithms_analysis/blob/master/stanfordcourse/tf_cnn.ipynb\" target=\"_parent\"><img src=\"https://colab.research.google.com/assets/colab-badge.svg\" alt=\"Open In Colab\"/></a>"
      ]
    },
    {
      "metadata": {
        "id": "5YV0CbX9mOSc",
        "colab_type": "code",
        "colab": {}
      },
      "cell_type": "code",
      "source": [
        "\n",
        "import os\n",
        "os.environ['TF_CPP_MIN_LOG_LEVEL']='2'\n",
        "\n",
        "import numpy as np\n",
        "import tensorflow as tf\n",
        "import warnings\n",
        "warnings.filterwarnings(\"ignore\")"
      ],
      "execution_count": 0,
      "outputs": []
    },
    {
      "metadata": {
        "id": "dW3ccMEvlOjS",
        "colab_type": "text"
      },
      "cell_type": "markdown",
      "source": [
        "Get MNIST data"
      ]
    },
    {
      "metadata": {
        "id": "AvXWrmVolS1K",
        "colab_type": "code",
        "colab": {
          "base_uri": "https://localhost:8080/",
          "height": 221
        },
        "outputId": "5e01cdcf-461b-4f1f-d07d-0531ad7098ac"
      },
      "cell_type": "code",
      "source": [
        "!curl -O http://yann.lecun.com/exdb/mnist/train-images-idx3-ubyte.gz\n",
        "!curl -O http://yann.lecun.com/exdb/mnist/train-labels-idx1-ubyte.gz\n",
        "!curl -O http://yann.lecun.com/exdb/mnist/t10k-images-idx3-ubyte.gz\n",
        "!curl -O http://yann.lecun.com/exdb/mnist/t10k-labels-idx1-ubyte.gz"
      ],
      "execution_count": 13,
      "outputs": [
        {
          "output_type": "stream",
          "text": [
            "  % Total    % Received % Xferd  Average Speed   Time    Time     Time  Current\n",
            "                                 Dload  Upload   Total   Spent    Left  Speed\n",
            "100 9680k  100 9680k    0     0  29.3M      0 --:--:-- --:--:-- --:--:-- 29.2M\n",
            "  % Total    % Received % Xferd  Average Speed   Time    Time     Time  Current\n",
            "                                 Dload  Upload   Total   Spent    Left  Speed\n",
            "100 28881  100 28881    0     0   376k      0 --:--:-- --:--:-- --:--:--  376k\n",
            "  % Total    % Received % Xferd  Average Speed   Time    Time     Time  Current\n",
            "                                 Dload  Upload   Total   Spent    Left  Speed\n",
            "100 1610k  100 1610k    0     0  7352k      0 --:--:-- --:--:-- --:--:-- 7352k\n",
            "  % Total    % Received % Xferd  Average Speed   Time    Time     Time  Current\n",
            "                                 Dload  Upload   Total   Spent    Left  Speed\n",
            "100  4542  100  4542    0     0  94625      0 --:--:-- --:--:-- --:--:-- 96638\n"
          ],
          "name": "stdout"
        }
      ]
    },
    {
      "metadata": {
        "id": "Mw3Ya2hFla5S",
        "colab_type": "code",
        "colab": {}
      },
      "cell_type": "code",
      "source": [
        "!gunzip t*-ubyte.gz"
      ],
      "execution_count": 0,
      "outputs": []
    },
    {
      "metadata": {
        "id": "4mvUbl4yok34",
        "colab_type": "code",
        "colab": {
          "base_uri": "https://localhost:8080/",
          "height": 51
        },
        "outputId": "18fb6f6f-2e58-4cb9-c5ff-ab7e8a6c636d"
      },
      "cell_type": "code",
      "source": [
        "!ls"
      ],
      "execution_count": 15,
      "outputs": [
        {
          "output_type": "stream",
          "text": [
            "data\t     t10k-images-idx3-ubyte  train-images-idx3-ubyte\n",
            "sample_data  t10k-labels-idx1-ubyte  train-labels-idx1-ubyte\n"
          ],
          "name": "stdout"
        }
      ]
    },
    {
      "metadata": {
        "id": "ttKyoSjyoJjU",
        "colab_type": "code",
        "colab": {
          "base_uri": "https://localhost:8080/",
          "height": 34
        },
        "outputId": "cd0bb7be-ab38-4ecf-a236-8a0929583f7a"
      },
      "cell_type": "code",
      "source": [
        "\n",
        "!sudo mkdir data\n",
        "!sudo mkdir data/mnist"
      ],
      "execution_count": 16,
      "outputs": [
        {
          "output_type": "stream",
          "text": [
            "mkdir: cannot create directory ‘data’: File exists\n"
          ],
          "name": "stdout"
        }
      ]
    },
    {
      "metadata": {
        "id": "m6yL-Lm3pEOz",
        "colab_type": "code",
        "colab": {}
      },
      "cell_type": "code",
      "source": [
        "!sudo cp t10k-images-idx3-ubyte ./data/mnist/\n",
        "!sudo cp t10k-labels-idx1-ubyte ./data/mnist/\n",
        "!sudo cp train-images-idx3-ubyte ./data/mnist/\n",
        "!sudo cp train-labels-idx1-ubyte ./data/mnist/"
      ],
      "execution_count": 0,
      "outputs": []
    },
    {
      "metadata": {
        "id": "fB8VFSZEpK-E",
        "colab_type": "code",
        "colab": {
          "base_uri": "https://localhost:8080/",
          "height": 51
        },
        "outputId": "30413620-92fd-4630-c97e-ed2d4efcb1b7"
      },
      "cell_type": "code",
      "source": [
        "!ls data/mnist"
      ],
      "execution_count": 18,
      "outputs": [
        {
          "output_type": "stream",
          "text": [
            "t10k-images-idx3-ubyte\ttrain-images-idx3-ubyte\n",
            "t10k-labels-idx1-ubyte\ttrain-labels-idx1-ubyte\n"
          ],
          "name": "stdout"
        }
      ]
    },
    {
      "metadata": {
        "id": "gHd_tXyLpOO0",
        "colab_type": "code",
        "colab": {}
      },
      "cell_type": "code",
      "source": [
        "import struct \n",
        "\n",
        "def parse_data(path, dataset, flatten):\n",
        "  label_path = os.path.join(path , dataset + '-labels-idx1-ubyte' )\n",
        "  with open(label_path, \"rb\") as file:\n",
        "    _ , num = struct.unpack(\">II\", file.read(8))\n",
        "    labels = np.fromfile(file, dtype= np.int8)\n",
        "    new_labels = np.zeros((num, 10))\n",
        "    new_labels[np.arange(num), labels] = 1\n",
        "  \n",
        "  img_path = os.path.join(path, dataset +'-images-idx3-ubyte')\n",
        "  with open(img_path, \"rb\") as file:\n",
        "    _, num, rows, cols = struct.unpack(\">IIII\", file.read(16))\n",
        "    image = np.fromfile(file, dtype=np.uint8).reshape(num, rows, cols)\n",
        "    image = image.astype(np.float32) / 255.0\n",
        "    if flatten:\n",
        "      image = image.reshape([num, -1])\n",
        "  return image,  new_labels\n",
        "\n",
        "def get_mnist_data(batchsize, num_train=55000, flatten=True):\n",
        "  data_folder= \"data/mnist\"\n",
        "  imgs, labels = parse_data(data_folder, \"train\", flatten)\n",
        "  indices = np.random.permutation(labels.shape[0])\n",
        "  train_idx, val_idx = indices[:num_train], indices[num_train:]\n",
        "  train_img, train_labels = imgs[train_idx, :], labels[train_idx, :]\n",
        "  val_img, val_labels = imgs[val_idx, :], labels[val_idx, :]\n",
        "  test = parse_data(data_folder, 't10k', flatten)\n",
        "  train , val , test = (train_img, train_labels), (val_img, val_labels), test\n",
        "  \n",
        "  train_data = tf.data.Dataset.from_tensor_slices(train)\n",
        "  train_data = train_data.shuffle(1000)\n",
        "  train_data = train_data.batch(batchsize)\n",
        "  \n",
        "  test_data = tf.data.Dataset.from_tensor_slices(train)\n",
        "  test_data = test_data.batch(batchsize)\n",
        "  return train_data, test_data\n"
      ],
      "execution_count": 0,
      "outputs": []
    },
    {
      "metadata": {
        "id": "9Sy5biW37kOP",
        "colab_type": "code",
        "colab": {}
      },
      "cell_type": "code",
      "source": [
        ""
      ],
      "execution_count": 0,
      "outputs": []
    }
  ]
}